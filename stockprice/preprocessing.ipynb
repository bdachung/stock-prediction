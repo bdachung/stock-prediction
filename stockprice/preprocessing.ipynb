{
 "cells": [
  {
   "cell_type": "code",
   "execution_count": 1,
   "id": "724fd2af-a34a-408a-b3ed-2b03f2ad531d",
   "metadata": {},
   "outputs": [
    {
     "name": "stdout",
     "output_type": "stream",
     "text": [
      "Requirement already satisfied: seaborn in /home/dh2409/Documents/deep_learning/env/lib/python3.6/site-packages (0.11.2)\n",
      "Requirement already satisfied: matplotlib>=2.2 in /home/dh2409/Documents/deep_learning/env/lib/python3.6/site-packages (from seaborn) (3.3.4)\n",
      "Requirement already satisfied: scipy>=1.0 in /home/dh2409/Documents/deep_learning/env/lib/python3.6/site-packages (from seaborn) (1.5.4)\n",
      "Requirement already satisfied: pandas>=0.23 in /home/dh2409/Documents/deep_learning/env/lib/python3.6/site-packages (from seaborn) (1.1.5)\n",
      "Requirement already satisfied: numpy>=1.15 in /home/dh2409/Documents/deep_learning/env/lib/python3.6/site-packages (from seaborn) (1.19.5)\n",
      "Requirement already satisfied: pyparsing!=2.0.4,!=2.1.2,!=2.1.6,>=2.0.3 in /home/dh2409/Documents/deep_learning/env/lib/python3.6/site-packages (from matplotlib>=2.2->seaborn) (3.0.7)\n",
      "Requirement already satisfied: python-dateutil>=2.1 in /home/dh2409/Documents/deep_learning/env/lib/python3.6/site-packages (from matplotlib>=2.2->seaborn) (2.8.2)\n",
      "Requirement already satisfied: pillow>=6.2.0 in /home/dh2409/Documents/deep_learning/env/lib/python3.6/site-packages (from matplotlib>=2.2->seaborn) (8.4.0)\n",
      "Requirement already satisfied: cycler>=0.10 in /home/dh2409/Documents/deep_learning/env/lib/python3.6/site-packages (from matplotlib>=2.2->seaborn) (0.11.0)\n",
      "Requirement already satisfied: kiwisolver>=1.0.1 in /home/dh2409/Documents/deep_learning/env/lib/python3.6/site-packages (from matplotlib>=2.2->seaborn) (1.3.1)\n",
      "Requirement already satisfied: pytz>=2017.2 in /home/dh2409/Documents/deep_learning/env/lib/python3.6/site-packages (from pandas>=0.23->seaborn) (2021.3)\n",
      "Requirement already satisfied: six>=1.5 in /home/dh2409/Documents/deep_learning/env/lib/python3.6/site-packages (from python-dateutil>=2.1->matplotlib>=2.2->seaborn) (1.15.0)\n",
      "Note: you may need to restart the kernel to use updated packages.\n"
     ]
    }
   ],
   "source": [
    "pip install seaborn"
   ]
  },
  {
   "cell_type": "code",
   "execution_count": 2,
   "id": "ee50c43a-2701-4e5b-93a2-ca2e657611a3",
   "metadata": {},
   "outputs": [],
   "source": [
    "import pandas as pd\n",
    "import numpy as np\n",
    "import matplotlib.pyplot as plt\n",
    "import seaborn as sns\n",
    "import matplotlib.dates as mdates\n",
    "import datetime\n",
    "plt.style.use('ggplot')"
   ]
  },
  {
   "cell_type": "code",
   "execution_count": 3,
   "id": "7784fb92-2997-4e49-9f04-2973c7afdc4d",
   "metadata": {},
   "outputs": [],
   "source": [
    "df1 = pd.read_json('./data/national_case_by_day', convert_axes=False, orient='index')\n",
    "df2 = pd.read_json('./data/national_injected_by_time', convert_axes=False, orient='columns')\n",
    "df3 = pd.read_json('./data/national_recovered_by_day', convert_axes=False, orient='columns')\n",
    "df4 = pd.read_json('./data/national_death_by_day', convert_axes=False, orient='columns')"
   ]
  },
  {
   "cell_type": "code",
   "execution_count": 4,
   "id": "66aabfd6-f5a7-4274-a93e-cc19dce84754",
   "metadata": {},
   "outputs": [
    {
     "data": {
      "text/html": [
       "<div>\n",
       "<style scoped>\n",
       "    .dataframe tbody tr th:only-of-type {\n",
       "        vertical-align: middle;\n",
       "    }\n",
       "\n",
       "    .dataframe tbody tr th {\n",
       "        vertical-align: top;\n",
       "    }\n",
       "\n",
       "    .dataframe thead th {\n",
       "        text-align: right;\n",
       "    }\n",
       "</style>\n",
       "<table border=\"1\" class=\"dataframe\">\n",
       "  <thead>\n",
       "    <tr style=\"text-align: right;\">\n",
       "      <th></th>\n",
       "      <th>total</th>\n",
       "      <th>out_quarantine_area</th>\n",
       "      <th>in_quarantine_area</th>\n",
       "    </tr>\n",
       "  </thead>\n",
       "  <tbody>\n",
       "    <tr>\n",
       "      <th>01/12/2020</th>\n",
       "      <td>5</td>\n",
       "      <td>NaN</td>\n",
       "      <td>NaN</td>\n",
       "    </tr>\n",
       "    <tr>\n",
       "      <th>02/12/2020</th>\n",
       "      <td>7</td>\n",
       "      <td>NaN</td>\n",
       "      <td>NaN</td>\n",
       "    </tr>\n",
       "    <tr>\n",
       "      <th>03/12/2020</th>\n",
       "      <td>3</td>\n",
       "      <td>NaN</td>\n",
       "      <td>NaN</td>\n",
       "    </tr>\n",
       "    <tr>\n",
       "      <th>04/12/2020</th>\n",
       "      <td>0</td>\n",
       "      <td>NaN</td>\n",
       "      <td>NaN</td>\n",
       "    </tr>\n",
       "    <tr>\n",
       "      <th>05/12/2020</th>\n",
       "      <td>4</td>\n",
       "      <td>NaN</td>\n",
       "      <td>NaN</td>\n",
       "    </tr>\n",
       "  </tbody>\n",
       "</table>\n",
       "</div>"
      ],
      "text/plain": [
       "            total  out_quarantine_area  in_quarantine_area\n",
       "01/12/2020      5                  NaN                 NaN\n",
       "02/12/2020      7                  NaN                 NaN\n",
       "03/12/2020      3                  NaN                 NaN\n",
       "04/12/2020      0                  NaN                 NaN\n",
       "05/12/2020      4                  NaN                 NaN"
      ]
     },
     "execution_count": 4,
     "metadata": {},
     "output_type": "execute_result"
    }
   ],
   "source": [
    "df1.head(5)"
   ]
  },
  {
   "cell_type": "code",
   "execution_count": 5,
   "id": "7d085da0-1b71-4cbd-864a-753b65e2152d",
   "metadata": {},
   "outputs": [
    {
     "name": "stdout",
     "output_type": "stream",
     "text": [
      "<class 'pandas.core.frame.DataFrame'>\n",
      "Index: 522 entries, 01/12/2020 to 06/05/2022\n",
      "Data columns (total 3 columns):\n",
      " #   Column               Non-Null Count  Dtype  \n",
      "---  ------               --------------  -----  \n",
      " 0   total                522 non-null    int64  \n",
      " 1   out_quarantine_area  362 non-null    float64\n",
      " 2   in_quarantine_area   362 non-null    float64\n",
      "dtypes: float64(2), int64(1)\n",
      "memory usage: 16.3+ KB\n"
     ]
    }
   ],
   "source": [
    "df1.info()"
   ]
  },
  {
   "cell_type": "code",
   "execution_count": 6,
   "id": "e9da3aa6-a437-48bc-8753-ecb9fec04da3",
   "metadata": {},
   "outputs": [
    {
     "data": {
      "text/html": [
       "<div>\n",
       "<style scoped>\n",
       "    .dataframe tbody tr th:only-of-type {\n",
       "        vertical-align: middle;\n",
       "    }\n",
       "\n",
       "    .dataframe tbody tr th {\n",
       "        vertical-align: top;\n",
       "    }\n",
       "\n",
       "    .dataframe thead th {\n",
       "        text-align: right;\n",
       "    }\n",
       "</style>\n",
       "<table border=\"1\" class=\"dataframe\">\n",
       "  <thead>\n",
       "    <tr style=\"text-align: right;\">\n",
       "      <th></th>\n",
       "      <th>total</th>\n",
       "      <th>out_quarantine_area</th>\n",
       "      <th>in_quarantine_area</th>\n",
       "    </tr>\n",
       "  </thead>\n",
       "  <tbody>\n",
       "    <tr>\n",
       "      <th>count</th>\n",
       "      <td>522.000000</td>\n",
       "      <td>362.000000</td>\n",
       "      <td>362.000000</td>\n",
       "    </tr>\n",
       "    <tr>\n",
       "      <th>mean</th>\n",
       "      <td>20414.789272</td>\n",
       "      <td>14444.696133</td>\n",
       "      <td>14663.751381</td>\n",
       "    </tr>\n",
       "    <tr>\n",
       "      <th>std</th>\n",
       "      <td>51760.406298</td>\n",
       "      <td>25966.899342</td>\n",
       "      <td>37100.525307</td>\n",
       "    </tr>\n",
       "    <tr>\n",
       "      <th>min</th>\n",
       "      <td>0.000000</td>\n",
       "      <td>0.000000</td>\n",
       "      <td>70.000000</td>\n",
       "    </tr>\n",
       "    <tr>\n",
       "      <th>25%</th>\n",
       "      <td>14.000000</td>\n",
       "      <td>1431.250000</td>\n",
       "      <td>2305.000000</td>\n",
       "    </tr>\n",
       "    <tr>\n",
       "      <th>50%</th>\n",
       "      <td>4895.500000</td>\n",
       "      <td>5882.000000</td>\n",
       "      <td>4826.000000</td>\n",
       "    </tr>\n",
       "    <tr>\n",
       "      <th>75%</th>\n",
       "      <td>14504.000000</td>\n",
       "      <td>10613.000000</td>\n",
       "      <td>6844.500000</td>\n",
       "    </tr>\n",
       "    <tr>\n",
       "      <th>max</th>\n",
       "      <td>454212.000000</td>\n",
       "      <td>128256.000000</td>\n",
       "      <td>337549.000000</td>\n",
       "    </tr>\n",
       "  </tbody>\n",
       "</table>\n",
       "</div>"
      ],
      "text/plain": [
       "               total  out_quarantine_area  in_quarantine_area\n",
       "count     522.000000           362.000000          362.000000\n",
       "mean    20414.789272         14444.696133        14663.751381\n",
       "std     51760.406298         25966.899342        37100.525307\n",
       "min         0.000000             0.000000           70.000000\n",
       "25%        14.000000          1431.250000         2305.000000\n",
       "50%      4895.500000          5882.000000         4826.000000\n",
       "75%     14504.000000         10613.000000         6844.500000\n",
       "max    454212.000000        128256.000000       337549.000000"
      ]
     },
     "execution_count": 6,
     "metadata": {},
     "output_type": "execute_result"
    }
   ],
   "source": [
    "df1.describe()"
   ]
  },
  {
   "cell_type": "code",
   "execution_count": 7,
   "id": "49804b1c-92f0-49eb-9d6b-f6a0e7bb6a55",
   "metadata": {},
   "outputs": [
    {
     "data": {
      "text/plain": [
       "320"
      ]
     },
     "execution_count": 7,
     "metadata": {},
     "output_type": "execute_result"
    }
   ],
   "source": [
    "df1.isnull().sum().sum()"
   ]
  },
  {
   "cell_type": "code",
   "execution_count": 8,
   "id": "b12db547-3469-4b2b-abfd-3443a3fa4d49",
   "metadata": {},
   "outputs": [],
   "source": [
    "#filling missing value for df1\n",
    "df1.loc[df1['out_quarantine_area'].isna(),'out_quarantine_area'] = 0\n",
    "df1.loc[df1['in_quarantine_area'].isna(), 'in_quarantine_area'] = 0\n",
    "df1.loc[df1['total'].isna(),'total'] = df1['in_quarantine_area'] + df1['out_quarantine_area']"
   ]
  },
  {
   "cell_type": "code",
   "execution_count": 9,
   "id": "cbfdcf9a-29d9-4962-b06c-1ffa21133773",
   "metadata": {},
   "outputs": [
    {
     "data": {
      "text/html": [
       "<div>\n",
       "<style scoped>\n",
       "    .dataframe tbody tr th:only-of-type {\n",
       "        vertical-align: middle;\n",
       "    }\n",
       "\n",
       "    .dataframe tbody tr th {\n",
       "        vertical-align: top;\n",
       "    }\n",
       "\n",
       "    .dataframe thead th {\n",
       "        text-align: right;\n",
       "    }\n",
       "</style>\n",
       "<table border=\"1\" class=\"dataframe\">\n",
       "  <thead>\n",
       "    <tr style=\"text-align: right;\">\n",
       "      <th></th>\n",
       "      <th>onceInjected</th>\n",
       "      <th>twiceInjected</th>\n",
       "    </tr>\n",
       "  </thead>\n",
       "  <tbody>\n",
       "    <tr>\n",
       "      <th>07/03/2021</th>\n",
       "      <td>0</td>\n",
       "      <td>0</td>\n",
       "    </tr>\n",
       "    <tr>\n",
       "      <th>08/03/2021</th>\n",
       "      <td>377</td>\n",
       "      <td>0</td>\n",
       "    </tr>\n",
       "    <tr>\n",
       "      <th>09/03/2021</th>\n",
       "      <td>522</td>\n",
       "      <td>0</td>\n",
       "    </tr>\n",
       "    <tr>\n",
       "      <th>10/03/2021</th>\n",
       "      <td>955</td>\n",
       "      <td>0</td>\n",
       "    </tr>\n",
       "    <tr>\n",
       "      <th>11/03/2021</th>\n",
       "      <td>1585</td>\n",
       "      <td>0</td>\n",
       "    </tr>\n",
       "  </tbody>\n",
       "</table>\n",
       "</div>"
      ],
      "text/plain": [
       "            onceInjected  twiceInjected\n",
       "07/03/2021             0              0\n",
       "08/03/2021           377              0\n",
       "09/03/2021           522              0\n",
       "10/03/2021           955              0\n",
       "11/03/2021          1585              0"
      ]
     },
     "execution_count": 9,
     "metadata": {},
     "output_type": "execute_result"
    }
   ],
   "source": [
    "df2.head()"
   ]
  },
  {
   "cell_type": "code",
   "execution_count": 10,
   "id": "673a5b8a-550d-4659-a3b0-91c05d858569",
   "metadata": {},
   "outputs": [
    {
     "name": "stdout",
     "output_type": "stream",
     "text": [
      "<class 'pandas.core.frame.DataFrame'>\n",
      "Index: 416 entries, 07/03/2021 to 06/05/2022\n",
      "Data columns (total 2 columns):\n",
      " #   Column         Non-Null Count  Dtype\n",
      "---  ------         --------------  -----\n",
      " 0   onceInjected   416 non-null    int64\n",
      " 1   twiceInjected  416 non-null    int64\n",
      "dtypes: int64(2)\n",
      "memory usage: 9.8+ KB\n"
     ]
    }
   ],
   "source": [
    "df2.info()"
   ]
  },
  {
   "cell_type": "code",
   "execution_count": 11,
   "id": "6d0d2756-59e7-43b9-b423-3ba68c778882",
   "metadata": {},
   "outputs": [
    {
     "data": {
      "text/html": [
       "<div>\n",
       "<style scoped>\n",
       "    .dataframe tbody tr th:only-of-type {\n",
       "        vertical-align: middle;\n",
       "    }\n",
       "\n",
       "    .dataframe tbody tr th {\n",
       "        vertical-align: top;\n",
       "    }\n",
       "\n",
       "    .dataframe thead th {\n",
       "        text-align: right;\n",
       "    }\n",
       "</style>\n",
       "<table border=\"1\" class=\"dataframe\">\n",
       "  <thead>\n",
       "    <tr style=\"text-align: right;\">\n",
       "      <th></th>\n",
       "      <th>onceInjected</th>\n",
       "      <th>twiceInjected</th>\n",
       "    </tr>\n",
       "  </thead>\n",
       "  <tbody>\n",
       "    <tr>\n",
       "      <th>count</th>\n",
       "      <td>4.160000e+02</td>\n",
       "      <td>4.160000e+02</td>\n",
       "    </tr>\n",
       "    <tr>\n",
       "      <th>mean</th>\n",
       "      <td>1.158117e+07</td>\n",
       "      <td>2.830538e+07</td>\n",
       "    </tr>\n",
       "    <tr>\n",
       "      <th>std</th>\n",
       "      <td>9.611636e+06</td>\n",
       "      <td>3.087962e+07</td>\n",
       "    </tr>\n",
       "    <tr>\n",
       "      <th>min</th>\n",
       "      <td>0.000000e+00</td>\n",
       "      <td>0.000000e+00</td>\n",
       "    </tr>\n",
       "    <tr>\n",
       "      <th>25%</th>\n",
       "      <td>2.101934e+06</td>\n",
       "      <td>1.129502e+05</td>\n",
       "    </tr>\n",
       "    <tr>\n",
       "      <th>50%</th>\n",
       "      <td>1.155504e+07</td>\n",
       "      <td>9.238756e+06</td>\n",
       "    </tr>\n",
       "    <tr>\n",
       "      <th>75%</th>\n",
       "      <td>1.677138e+07</td>\n",
       "      <td>6.755249e+07</td>\n",
       "    </tr>\n",
       "    <tr>\n",
       "      <th>max</th>\n",
       "      <td>3.409397e+07</td>\n",
       "      <td>7.355419e+07</td>\n",
       "    </tr>\n",
       "  </tbody>\n",
       "</table>\n",
       "</div>"
      ],
      "text/plain": [
       "       onceInjected  twiceInjected\n",
       "count  4.160000e+02   4.160000e+02\n",
       "mean   1.158117e+07   2.830538e+07\n",
       "std    9.611636e+06   3.087962e+07\n",
       "min    0.000000e+00   0.000000e+00\n",
       "25%    2.101934e+06   1.129502e+05\n",
       "50%    1.155504e+07   9.238756e+06\n",
       "75%    1.677138e+07   6.755249e+07\n",
       "max    3.409397e+07   7.355419e+07"
      ]
     },
     "execution_count": 11,
     "metadata": {},
     "output_type": "execute_result"
    }
   ],
   "source": [
    "df2.describe()"
   ]
  },
  {
   "cell_type": "code",
   "execution_count": 12,
   "id": "13f6bd64-738a-4adb-8cd1-8041f51919f1",
   "metadata": {},
   "outputs": [
    {
     "data": {
      "text/plain": [
       "0"
      ]
     },
     "execution_count": 12,
     "metadata": {},
     "output_type": "execute_result"
    }
   ],
   "source": [
    "df2.isnull().sum().sum()"
   ]
  },
  {
   "cell_type": "code",
   "execution_count": 13,
   "id": "7b3cc6d3-38dd-49cd-a7ff-d24c5f76980e",
   "metadata": {},
   "outputs": [
    {
     "data": {
      "text/html": [
       "<div>\n",
       "<style scoped>\n",
       "    .dataframe tbody tr th:only-of-type {\n",
       "        vertical-align: middle;\n",
       "    }\n",
       "\n",
       "    .dataframe tbody tr th {\n",
       "        vertical-align: top;\n",
       "    }\n",
       "\n",
       "    .dataframe thead th {\n",
       "        text-align: right;\n",
       "    }\n",
       "</style>\n",
       "<table border=\"1\" class=\"dataframe\">\n",
       "  <thead>\n",
       "    <tr style=\"text-align: right;\">\n",
       "      <th></th>\n",
       "      <th>recovered_by_day</th>\n",
       "    </tr>\n",
       "  </thead>\n",
       "  <tbody>\n",
       "    <tr>\n",
       "      <th>01/01/2021</th>\n",
       "      <td>0</td>\n",
       "    </tr>\n",
       "    <tr>\n",
       "      <th>01/01/2022</th>\n",
       "      <td>2990</td>\n",
       "    </tr>\n",
       "    <tr>\n",
       "      <th>01/02/2021</th>\n",
       "      <td>3</td>\n",
       "    </tr>\n",
       "    <tr>\n",
       "      <th>01/02/2022</th>\n",
       "      <td>39608</td>\n",
       "    </tr>\n",
       "    <tr>\n",
       "      <th>01/03/2021</th>\n",
       "      <td>16</td>\n",
       "    </tr>\n",
       "  </tbody>\n",
       "</table>\n",
       "</div>"
      ],
      "text/plain": [
       "            recovered_by_day\n",
       "01/01/2021                 0\n",
       "01/01/2022              2990\n",
       "01/02/2021                 3\n",
       "01/02/2022             39608\n",
       "01/03/2021                16"
      ]
     },
     "execution_count": 13,
     "metadata": {},
     "output_type": "execute_result"
    }
   ],
   "source": [
    "df3.head()"
   ]
  },
  {
   "cell_type": "code",
   "execution_count": 14,
   "id": "23c5cb96-5986-4d52-b149-8745ebbb59ac",
   "metadata": {},
   "outputs": [
    {
     "name": "stdout",
     "output_type": "stream",
     "text": [
      "<class 'pandas.core.frame.DataFrame'>\n",
      "Index: 521 entries, 01/01/2021 to 31/12/2021\n",
      "Data columns (total 1 columns):\n",
      " #   Column            Non-Null Count  Dtype\n",
      "---  ------            --------------  -----\n",
      " 0   recovered_by_day  521 non-null    int64\n",
      "dtypes: int64(1)\n",
      "memory usage: 8.1+ KB\n"
     ]
    }
   ],
   "source": [
    "df3.info()"
   ]
  },
  {
   "cell_type": "code",
   "execution_count": 15,
   "id": "84caa9b8-928f-4b70-98fd-be94fed6e72e",
   "metadata": {},
   "outputs": [
    {
     "data": {
      "text/html": [
       "<div>\n",
       "<style scoped>\n",
       "    .dataframe tbody tr th:only-of-type {\n",
       "        vertical-align: middle;\n",
       "    }\n",
       "\n",
       "    .dataframe tbody tr th {\n",
       "        vertical-align: top;\n",
       "    }\n",
       "\n",
       "    .dataframe thead th {\n",
       "        text-align: right;\n",
       "    }\n",
       "</style>\n",
       "<table border=\"1\" class=\"dataframe\">\n",
       "  <thead>\n",
       "    <tr style=\"text-align: right;\">\n",
       "      <th></th>\n",
       "      <th>recovered_by_day</th>\n",
       "    </tr>\n",
       "  </thead>\n",
       "  <tbody>\n",
       "    <tr>\n",
       "      <th>count</th>\n",
       "      <td>5.210000e+02</td>\n",
       "    </tr>\n",
       "    <tr>\n",
       "      <th>mean</th>\n",
       "      <td>1.779650e+04</td>\n",
       "    </tr>\n",
       "    <tr>\n",
       "      <th>std</th>\n",
       "      <td>8.140649e+04</td>\n",
       "    </tr>\n",
       "    <tr>\n",
       "      <th>min</th>\n",
       "      <td>0.000000e+00</td>\n",
       "    </tr>\n",
       "    <tr>\n",
       "      <th>25%</th>\n",
       "      <td>5.000000e+00</td>\n",
       "    </tr>\n",
       "    <tr>\n",
       "      <th>50%</th>\n",
       "      <td>1.340000e+03</td>\n",
       "    </tr>\n",
       "    <tr>\n",
       "      <th>75%</th>\n",
       "      <td>1.079900e+04</td>\n",
       "    </tr>\n",
       "    <tr>\n",
       "      <th>max</th>\n",
       "      <td>1.679138e+06</td>\n",
       "    </tr>\n",
       "  </tbody>\n",
       "</table>\n",
       "</div>"
      ],
      "text/plain": [
       "       recovered_by_day\n",
       "count      5.210000e+02\n",
       "mean       1.779650e+04\n",
       "std        8.140649e+04\n",
       "min        0.000000e+00\n",
       "25%        5.000000e+00\n",
       "50%        1.340000e+03\n",
       "75%        1.079900e+04\n",
       "max        1.679138e+06"
      ]
     },
     "execution_count": 15,
     "metadata": {},
     "output_type": "execute_result"
    }
   ],
   "source": [
    "df3.describe()"
   ]
  },
  {
   "cell_type": "code",
   "execution_count": 16,
   "id": "8a074dad-d30c-486a-b5b2-be8366426018",
   "metadata": {},
   "outputs": [
    {
     "data": {
      "text/plain": [
       "0"
      ]
     },
     "execution_count": 16,
     "metadata": {},
     "output_type": "execute_result"
    }
   ],
   "source": [
    "df3.isnull().sum().sum()"
   ]
  },
  {
   "cell_type": "code",
   "execution_count": 17,
   "id": "31e2f9dd-6711-4e61-b3a0-24b38a9ff646",
   "metadata": {},
   "outputs": [
    {
     "data": {
      "text/html": [
       "<div>\n",
       "<style scoped>\n",
       "    .dataframe tbody tr th:only-of-type {\n",
       "        vertical-align: middle;\n",
       "    }\n",
       "\n",
       "    .dataframe tbody tr th {\n",
       "        vertical-align: top;\n",
       "    }\n",
       "\n",
       "    .dataframe thead th {\n",
       "        text-align: right;\n",
       "    }\n",
       "</style>\n",
       "<table border=\"1\" class=\"dataframe\">\n",
       "  <thead>\n",
       "    <tr style=\"text-align: right;\">\n",
       "      <th></th>\n",
       "      <th>death_by_day</th>\n",
       "    </tr>\n",
       "  </thead>\n",
       "  <tbody>\n",
       "    <tr>\n",
       "      <th>01/01/2021</th>\n",
       "      <td>0</td>\n",
       "    </tr>\n",
       "    <tr>\n",
       "      <th>01/01/2022</th>\n",
       "      <td>216</td>\n",
       "    </tr>\n",
       "    <tr>\n",
       "      <th>01/02/2021</th>\n",
       "      <td>0</td>\n",
       "    </tr>\n",
       "    <tr>\n",
       "      <th>01/02/2022</th>\n",
       "      <td>0</td>\n",
       "    </tr>\n",
       "    <tr>\n",
       "      <th>01/03/2021</th>\n",
       "      <td>0</td>\n",
       "    </tr>\n",
       "  </tbody>\n",
       "</table>\n",
       "</div>"
      ],
      "text/plain": [
       "            death_by_day\n",
       "01/01/2021             0\n",
       "01/01/2022           216\n",
       "01/02/2021             0\n",
       "01/02/2022             0\n",
       "01/03/2021             0"
      ]
     },
     "execution_count": 17,
     "metadata": {},
     "output_type": "execute_result"
    }
   ],
   "source": [
    "df4.head()"
   ]
  },
  {
   "cell_type": "code",
   "execution_count": 18,
   "id": "85dfcabb-63fb-4c3c-883c-2e611c798ffb",
   "metadata": {},
   "outputs": [
    {
     "name": "stdout",
     "output_type": "stream",
     "text": [
      "<class 'pandas.core.frame.DataFrame'>\n",
      "Index: 522 entries, 01/01/2021 to 31/12/2021\n",
      "Data columns (total 1 columns):\n",
      " #   Column        Non-Null Count  Dtype\n",
      "---  ------        --------------  -----\n",
      " 0   death_by_day  522 non-null    int64\n",
      "dtypes: int64(1)\n",
      "memory usage: 8.2+ KB\n"
     ]
    }
   ],
   "source": [
    "df4.info()"
   ]
  },
  {
   "cell_type": "code",
   "execution_count": 19,
   "id": "d4b35e16-2ded-4343-9507-20963b79e4b1",
   "metadata": {},
   "outputs": [
    {
     "data": {
      "text/plain": [
       "0"
      ]
     },
     "execution_count": 19,
     "metadata": {},
     "output_type": "execute_result"
    }
   ],
   "source": [
    "df4.isnull().sum().sum()"
   ]
  },
  {
   "cell_type": "code",
   "execution_count": 20,
   "id": "fb860015-cc95-4e43-b12d-067693395a46",
   "metadata": {},
   "outputs": [],
   "source": [
    "df_full = df1.join(df2).join(df3).join(df4)"
   ]
  },
  {
   "cell_type": "code",
   "execution_count": 21,
   "id": "1fa78eb6-3509-4bc9-8017-f2cbbc54a25f",
   "metadata": {},
   "outputs": [
    {
     "data": {
      "text/html": [
       "<div>\n",
       "<style scoped>\n",
       "    .dataframe tbody tr th:only-of-type {\n",
       "        vertical-align: middle;\n",
       "    }\n",
       "\n",
       "    .dataframe tbody tr th {\n",
       "        vertical-align: top;\n",
       "    }\n",
       "\n",
       "    .dataframe thead th {\n",
       "        text-align: right;\n",
       "    }\n",
       "</style>\n",
       "<table border=\"1\" class=\"dataframe\">\n",
       "  <thead>\n",
       "    <tr style=\"text-align: right;\">\n",
       "      <th></th>\n",
       "      <th>total</th>\n",
       "      <th>out_quarantine_area</th>\n",
       "      <th>in_quarantine_area</th>\n",
       "      <th>onceInjected</th>\n",
       "      <th>twiceInjected</th>\n",
       "      <th>recovered_by_day</th>\n",
       "      <th>death_by_day</th>\n",
       "    </tr>\n",
       "  </thead>\n",
       "  <tbody>\n",
       "    <tr>\n",
       "      <th>01/12/2020</th>\n",
       "      <td>5</td>\n",
       "      <td>0.0</td>\n",
       "      <td>0.0</td>\n",
       "      <td>NaN</td>\n",
       "      <td>NaN</td>\n",
       "      <td>16.0</td>\n",
       "      <td>0</td>\n",
       "    </tr>\n",
       "    <tr>\n",
       "      <th>02/12/2020</th>\n",
       "      <td>7</td>\n",
       "      <td>0.0</td>\n",
       "      <td>0.0</td>\n",
       "      <td>NaN</td>\n",
       "      <td>NaN</td>\n",
       "      <td>6.0</td>\n",
       "      <td>0</td>\n",
       "    </tr>\n",
       "    <tr>\n",
       "      <th>03/12/2020</th>\n",
       "      <td>3</td>\n",
       "      <td>0.0</td>\n",
       "      <td>0.0</td>\n",
       "      <td>NaN</td>\n",
       "      <td>NaN</td>\n",
       "      <td>8.0</td>\n",
       "      <td>0</td>\n",
       "    </tr>\n",
       "    <tr>\n",
       "      <th>04/12/2020</th>\n",
       "      <td>0</td>\n",
       "      <td>0.0</td>\n",
       "      <td>0.0</td>\n",
       "      <td>NaN</td>\n",
       "      <td>NaN</td>\n",
       "      <td>11.0</td>\n",
       "      <td>0</td>\n",
       "    </tr>\n",
       "    <tr>\n",
       "      <th>05/12/2020</th>\n",
       "      <td>4</td>\n",
       "      <td>0.0</td>\n",
       "      <td>0.0</td>\n",
       "      <td>NaN</td>\n",
       "      <td>NaN</td>\n",
       "      <td>0.0</td>\n",
       "      <td>0</td>\n",
       "    </tr>\n",
       "  </tbody>\n",
       "</table>\n",
       "</div>"
      ],
      "text/plain": [
       "            total  out_quarantine_area  in_quarantine_area  onceInjected  \\\n",
       "01/12/2020      5                  0.0                 0.0           NaN   \n",
       "02/12/2020      7                  0.0                 0.0           NaN   \n",
       "03/12/2020      3                  0.0                 0.0           NaN   \n",
       "04/12/2020      0                  0.0                 0.0           NaN   \n",
       "05/12/2020      4                  0.0                 0.0           NaN   \n",
       "\n",
       "            twiceInjected  recovered_by_day  death_by_day  \n",
       "01/12/2020            NaN              16.0             0  \n",
       "02/12/2020            NaN               6.0             0  \n",
       "03/12/2020            NaN               8.0             0  \n",
       "04/12/2020            NaN              11.0             0  \n",
       "05/12/2020            NaN               0.0             0  "
      ]
     },
     "execution_count": 21,
     "metadata": {},
     "output_type": "execute_result"
    }
   ],
   "source": [
    "df_full.head()"
   ]
  },
  {
   "cell_type": "code",
   "execution_count": 22,
   "id": "49608b17-a15d-47aa-8326-970a8a5ab50d",
   "metadata": {},
   "outputs": [
    {
     "data": {
      "text/html": [
       "<div>\n",
       "<style scoped>\n",
       "    .dataframe tbody tr th:only-of-type {\n",
       "        vertical-align: middle;\n",
       "    }\n",
       "\n",
       "    .dataframe tbody tr th {\n",
       "        vertical-align: top;\n",
       "    }\n",
       "\n",
       "    .dataframe thead th {\n",
       "        text-align: right;\n",
       "    }\n",
       "</style>\n",
       "<table border=\"1\" class=\"dataframe\">\n",
       "  <thead>\n",
       "    <tr style=\"text-align: right;\">\n",
       "      <th></th>\n",
       "      <th>total</th>\n",
       "      <th>out_quarantine_area</th>\n",
       "      <th>in_quarantine_area</th>\n",
       "      <th>onceInjected</th>\n",
       "      <th>twiceInjected</th>\n",
       "      <th>recovered_by_day</th>\n",
       "      <th>death_by_day</th>\n",
       "    </tr>\n",
       "  </thead>\n",
       "  <tbody>\n",
       "    <tr>\n",
       "      <th>02/05/2022</th>\n",
       "      <td>3123</td>\n",
       "      <td>2615.0</td>\n",
       "      <td>507.0</td>\n",
       "      <td>11926471.0</td>\n",
       "      <td>73401937.0</td>\n",
       "      <td>1090.0</td>\n",
       "      <td>2</td>\n",
       "    </tr>\n",
       "    <tr>\n",
       "      <th>03/05/2022</th>\n",
       "      <td>0</td>\n",
       "      <td>1653.0</td>\n",
       "      <td>1056.0</td>\n",
       "      <td>11935482.0</td>\n",
       "      <td>73416701.0</td>\n",
       "      <td>0.0</td>\n",
       "      <td>0</td>\n",
       "    </tr>\n",
       "    <tr>\n",
       "      <th>04/05/2022</th>\n",
       "      <td>2709</td>\n",
       "      <td>2105.0</td>\n",
       "      <td>983.0</td>\n",
       "      <td>11971357.0</td>\n",
       "      <td>73456436.0</td>\n",
       "      <td>1825.0</td>\n",
       "      <td>3</td>\n",
       "    </tr>\n",
       "    <tr>\n",
       "      <th>05/05/2022</th>\n",
       "      <td>4305</td>\n",
       "      <td>3616.0</td>\n",
       "      <td>689.0</td>\n",
       "      <td>12037588.0</td>\n",
       "      <td>73508937.0</td>\n",
       "      <td>5084.0</td>\n",
       "      <td>2</td>\n",
       "    </tr>\n",
       "    <tr>\n",
       "      <th>06/05/2022</th>\n",
       "      <td>3819</td>\n",
       "      <td>2706.0</td>\n",
       "      <td>1113.0</td>\n",
       "      <td>12086643.0</td>\n",
       "      <td>73554186.0</td>\n",
       "      <td>NaN</td>\n",
       "      <td>6</td>\n",
       "    </tr>\n",
       "  </tbody>\n",
       "</table>\n",
       "</div>"
      ],
      "text/plain": [
       "            total  out_quarantine_area  in_quarantine_area  onceInjected  \\\n",
       "02/05/2022   3123               2615.0               507.0    11926471.0   \n",
       "03/05/2022      0               1653.0              1056.0    11935482.0   \n",
       "04/05/2022   2709               2105.0               983.0    11971357.0   \n",
       "05/05/2022   4305               3616.0               689.0    12037588.0   \n",
       "06/05/2022   3819               2706.0              1113.0    12086643.0   \n",
       "\n",
       "            twiceInjected  recovered_by_day  death_by_day  \n",
       "02/05/2022     73401937.0            1090.0             2  \n",
       "03/05/2022     73416701.0               0.0             0  \n",
       "04/05/2022     73456436.0            1825.0             3  \n",
       "05/05/2022     73508937.0            5084.0             2  \n",
       "06/05/2022     73554186.0               NaN             6  "
      ]
     },
     "execution_count": 22,
     "metadata": {},
     "output_type": "execute_result"
    }
   ],
   "source": [
    "df_full.tail()"
   ]
  },
  {
   "cell_type": "code",
   "execution_count": 23,
   "id": "273151e1-ca4c-425b-bd07-f09319187df2",
   "metadata": {},
   "outputs": [],
   "source": [
    "df_full[\"Date\"] = pd.to_datetime(df_full.index, format = \"%d/%m/%Y\")"
   ]
  },
  {
   "cell_type": "code",
   "execution_count": 24,
   "id": "89dfa971-8d1e-479d-b097-1c44815a8e47",
   "metadata": {},
   "outputs": [
    {
     "data": {
      "text/html": [
       "<div>\n",
       "<style scoped>\n",
       "    .dataframe tbody tr th:only-of-type {\n",
       "        vertical-align: middle;\n",
       "    }\n",
       "\n",
       "    .dataframe tbody tr th {\n",
       "        vertical-align: top;\n",
       "    }\n",
       "\n",
       "    .dataframe thead th {\n",
       "        text-align: right;\n",
       "    }\n",
       "</style>\n",
       "<table border=\"1\" class=\"dataframe\">\n",
       "  <thead>\n",
       "    <tr style=\"text-align: right;\">\n",
       "      <th></th>\n",
       "      <th>total</th>\n",
       "      <th>out_quarantine_area</th>\n",
       "      <th>in_quarantine_area</th>\n",
       "      <th>onceInjected</th>\n",
       "      <th>twiceInjected</th>\n",
       "      <th>recovered_by_day</th>\n",
       "      <th>death_by_day</th>\n",
       "      <th>Date</th>\n",
       "    </tr>\n",
       "  </thead>\n",
       "  <tbody>\n",
       "    <tr>\n",
       "      <th>01/12/2020</th>\n",
       "      <td>5</td>\n",
       "      <td>0.0</td>\n",
       "      <td>0.0</td>\n",
       "      <td>NaN</td>\n",
       "      <td>NaN</td>\n",
       "      <td>16.0</td>\n",
       "      <td>0</td>\n",
       "      <td>2020-12-01</td>\n",
       "    </tr>\n",
       "    <tr>\n",
       "      <th>02/12/2020</th>\n",
       "      <td>7</td>\n",
       "      <td>0.0</td>\n",
       "      <td>0.0</td>\n",
       "      <td>NaN</td>\n",
       "      <td>NaN</td>\n",
       "      <td>6.0</td>\n",
       "      <td>0</td>\n",
       "      <td>2020-12-02</td>\n",
       "    </tr>\n",
       "    <tr>\n",
       "      <th>03/12/2020</th>\n",
       "      <td>3</td>\n",
       "      <td>0.0</td>\n",
       "      <td>0.0</td>\n",
       "      <td>NaN</td>\n",
       "      <td>NaN</td>\n",
       "      <td>8.0</td>\n",
       "      <td>0</td>\n",
       "      <td>2020-12-03</td>\n",
       "    </tr>\n",
       "    <tr>\n",
       "      <th>04/12/2020</th>\n",
       "      <td>0</td>\n",
       "      <td>0.0</td>\n",
       "      <td>0.0</td>\n",
       "      <td>NaN</td>\n",
       "      <td>NaN</td>\n",
       "      <td>11.0</td>\n",
       "      <td>0</td>\n",
       "      <td>2020-12-04</td>\n",
       "    </tr>\n",
       "    <tr>\n",
       "      <th>05/12/2020</th>\n",
       "      <td>4</td>\n",
       "      <td>0.0</td>\n",
       "      <td>0.0</td>\n",
       "      <td>NaN</td>\n",
       "      <td>NaN</td>\n",
       "      <td>0.0</td>\n",
       "      <td>0</td>\n",
       "      <td>2020-12-05</td>\n",
       "    </tr>\n",
       "  </tbody>\n",
       "</table>\n",
       "</div>"
      ],
      "text/plain": [
       "            total  out_quarantine_area  in_quarantine_area  onceInjected  \\\n",
       "01/12/2020      5                  0.0                 0.0           NaN   \n",
       "02/12/2020      7                  0.0                 0.0           NaN   \n",
       "03/12/2020      3                  0.0                 0.0           NaN   \n",
       "04/12/2020      0                  0.0                 0.0           NaN   \n",
       "05/12/2020      4                  0.0                 0.0           NaN   \n",
       "\n",
       "            twiceInjected  recovered_by_day  death_by_day       Date  \n",
       "01/12/2020            NaN              16.0             0 2020-12-01  \n",
       "02/12/2020            NaN               6.0             0 2020-12-02  \n",
       "03/12/2020            NaN               8.0             0 2020-12-03  \n",
       "04/12/2020            NaN              11.0             0 2020-12-04  \n",
       "05/12/2020            NaN               0.0             0 2020-12-05  "
      ]
     },
     "execution_count": 24,
     "metadata": {},
     "output_type": "execute_result"
    }
   ],
   "source": [
    "df_full.head()"
   ]
  },
  {
   "cell_type": "code",
   "execution_count": 25,
   "id": "362d7214-6c2e-4ce4-8430-9818cc1d7a6b",
   "metadata": {},
   "outputs": [
    {
     "name": "stdout",
     "output_type": "stream",
     "text": [
      "<class 'pandas.core.frame.DataFrame'>\n",
      "Index: 522 entries, 01/12/2020 to 06/05/2022\n",
      "Data columns (total 8 columns):\n",
      " #   Column               Non-Null Count  Dtype         \n",
      "---  ------               --------------  -----         \n",
      " 0   total                522 non-null    int64         \n",
      " 1   out_quarantine_area  522 non-null    float64       \n",
      " 2   in_quarantine_area   522 non-null    float64       \n",
      " 3   onceInjected         416 non-null    float64       \n",
      " 4   twiceInjected        416 non-null    float64       \n",
      " 5   recovered_by_day     521 non-null    float64       \n",
      " 6   death_by_day         522 non-null    int64         \n",
      " 7   Date                 522 non-null    datetime64[ns]\n",
      "dtypes: datetime64[ns](1), float64(5), int64(2)\n",
      "memory usage: 56.7+ KB\n"
     ]
    }
   ],
   "source": [
    "df_full.info()"
   ]
  },
  {
   "cell_type": "code",
   "execution_count": 26,
   "id": "0b84b033-ab38-4956-b8b7-8eeff2f32fbd",
   "metadata": {},
   "outputs": [
    {
     "data": {
      "text/html": [
       "<div>\n",
       "<style scoped>\n",
       "    .dataframe tbody tr th:only-of-type {\n",
       "        vertical-align: middle;\n",
       "    }\n",
       "\n",
       "    .dataframe tbody tr th {\n",
       "        vertical-align: top;\n",
       "    }\n",
       "\n",
       "    .dataframe thead th {\n",
       "        text-align: right;\n",
       "    }\n",
       "</style>\n",
       "<table border=\"1\" class=\"dataframe\">\n",
       "  <thead>\n",
       "    <tr style=\"text-align: right;\">\n",
       "      <th></th>\n",
       "      <th>total</th>\n",
       "      <th>out_quarantine_area</th>\n",
       "      <th>in_quarantine_area</th>\n",
       "      <th>onceInjected</th>\n",
       "      <th>twiceInjected</th>\n",
       "      <th>recovered_by_day</th>\n",
       "      <th>death_by_day</th>\n",
       "    </tr>\n",
       "  </thead>\n",
       "  <tbody>\n",
       "    <tr>\n",
       "      <th>count</th>\n",
       "      <td>522.000000</td>\n",
       "      <td>522.000000</td>\n",
       "      <td>522.000000</td>\n",
       "      <td>4.160000e+02</td>\n",
       "      <td>4.160000e+02</td>\n",
       "      <td>5.210000e+02</td>\n",
       "      <td>522.000000</td>\n",
       "    </tr>\n",
       "    <tr>\n",
       "      <th>mean</th>\n",
       "      <td>20414.789272</td>\n",
       "      <td>10017.203065</td>\n",
       "      <td>10169.114943</td>\n",
       "      <td>1.158117e+07</td>\n",
       "      <td>2.830538e+07</td>\n",
       "      <td>1.779650e+04</td>\n",
       "      <td>80.687739</td>\n",
       "    </tr>\n",
       "    <tr>\n",
       "      <th>std</th>\n",
       "      <td>51760.406298</td>\n",
       "      <td>22619.539677</td>\n",
       "      <td>31615.396915</td>\n",
       "      <td>9.611636e+06</td>\n",
       "      <td>3.087962e+07</td>\n",
       "      <td>8.140649e+04</td>\n",
       "      <td>116.191484</td>\n",
       "    </tr>\n",
       "    <tr>\n",
       "      <th>min</th>\n",
       "      <td>0.000000</td>\n",
       "      <td>0.000000</td>\n",
       "      <td>0.000000</td>\n",
       "      <td>0.000000e+00</td>\n",
       "      <td>0.000000e+00</td>\n",
       "      <td>0.000000e+00</td>\n",
       "      <td>-382.000000</td>\n",
       "    </tr>\n",
       "    <tr>\n",
       "      <th>25%</th>\n",
       "      <td>14.000000</td>\n",
       "      <td>0.000000</td>\n",
       "      <td>0.000000</td>\n",
       "      <td>2.101934e+06</td>\n",
       "      <td>1.129502e+05</td>\n",
       "      <td>5.000000e+00</td>\n",
       "      <td>0.000000</td>\n",
       "    </tr>\n",
       "    <tr>\n",
       "      <th>50%</th>\n",
       "      <td>4895.500000</td>\n",
       "      <td>1624.000000</td>\n",
       "      <td>2575.500000</td>\n",
       "      <td>1.155504e+07</td>\n",
       "      <td>9.238756e+06</td>\n",
       "      <td>1.340000e+03</td>\n",
       "      <td>11.500000</td>\n",
       "    </tr>\n",
       "    <tr>\n",
       "      <th>75%</th>\n",
       "      <td>14504.000000</td>\n",
       "      <td>8219.250000</td>\n",
       "      <td>5707.000000</td>\n",
       "      <td>1.677138e+07</td>\n",
       "      <td>6.755249e+07</td>\n",
       "      <td>1.079900e+04</td>\n",
       "      <td>128.250000</td>\n",
       "    </tr>\n",
       "    <tr>\n",
       "      <th>max</th>\n",
       "      <td>454212.000000</td>\n",
       "      <td>128256.000000</td>\n",
       "      <td>337549.000000</td>\n",
       "      <td>3.409397e+07</td>\n",
       "      <td>7.355419e+07</td>\n",
       "      <td>1.679138e+06</td>\n",
       "      <td>804.000000</td>\n",
       "    </tr>\n",
       "  </tbody>\n",
       "</table>\n",
       "</div>"
      ],
      "text/plain": [
       "               total  out_quarantine_area  in_quarantine_area  onceInjected  \\\n",
       "count     522.000000           522.000000          522.000000  4.160000e+02   \n",
       "mean    20414.789272         10017.203065        10169.114943  1.158117e+07   \n",
       "std     51760.406298         22619.539677        31615.396915  9.611636e+06   \n",
       "min         0.000000             0.000000            0.000000  0.000000e+00   \n",
       "25%        14.000000             0.000000            0.000000  2.101934e+06   \n",
       "50%      4895.500000          1624.000000         2575.500000  1.155504e+07   \n",
       "75%     14504.000000          8219.250000         5707.000000  1.677138e+07   \n",
       "max    454212.000000        128256.000000       337549.000000  3.409397e+07   \n",
       "\n",
       "       twiceInjected  recovered_by_day  death_by_day  \n",
       "count   4.160000e+02      5.210000e+02    522.000000  \n",
       "mean    2.830538e+07      1.779650e+04     80.687739  \n",
       "std     3.087962e+07      8.140649e+04    116.191484  \n",
       "min     0.000000e+00      0.000000e+00   -382.000000  \n",
       "25%     1.129502e+05      5.000000e+00      0.000000  \n",
       "50%     9.238756e+06      1.340000e+03     11.500000  \n",
       "75%     6.755249e+07      1.079900e+04    128.250000  \n",
       "max     7.355419e+07      1.679138e+06    804.000000  "
      ]
     },
     "execution_count": 26,
     "metadata": {},
     "output_type": "execute_result"
    }
   ],
   "source": [
    "df_full.describe()"
   ]
  },
  {
   "cell_type": "code",
   "execution_count": 27,
   "id": "5ef5b035-573a-4023-b70c-f64bd73ac5bf",
   "metadata": {},
   "outputs": [
    {
     "data": {
      "text/plain": [
       "213"
      ]
     },
     "execution_count": 27,
     "metadata": {},
     "output_type": "execute_result"
    }
   ],
   "source": [
    "df_full.isnull().sum().sum()"
   ]
  },
  {
   "cell_type": "code",
   "execution_count": 28,
   "id": "619b725e-5374-41e9-8fc7-27d7c9863339",
   "metadata": {},
   "outputs": [],
   "source": [
    "#fill nan\n",
    "df_full.fillna(method=\"ffill\",inplace=True)\n",
    "df_full.fillna(0,inplace=True)"
   ]
  },
  {
   "cell_type": "code",
   "execution_count": 29,
   "id": "69e98bb5-15d6-451e-85c2-eb167310b163",
   "metadata": {},
   "outputs": [
    {
     "data": {
      "text/html": [
       "<div>\n",
       "<style scoped>\n",
       "    .dataframe tbody tr th:only-of-type {\n",
       "        vertical-align: middle;\n",
       "    }\n",
       "\n",
       "    .dataframe tbody tr th {\n",
       "        vertical-align: top;\n",
       "    }\n",
       "\n",
       "    .dataframe thead th {\n",
       "        text-align: right;\n",
       "    }\n",
       "</style>\n",
       "<table border=\"1\" class=\"dataframe\">\n",
       "  <thead>\n",
       "    <tr style=\"text-align: right;\">\n",
       "      <th></th>\n",
       "      <th>total</th>\n",
       "      <th>out_quarantine_area</th>\n",
       "      <th>in_quarantine_area</th>\n",
       "      <th>onceInjected</th>\n",
       "      <th>twiceInjected</th>\n",
       "      <th>recovered_by_day</th>\n",
       "      <th>death_by_day</th>\n",
       "      <th>Date</th>\n",
       "    </tr>\n",
       "  </thead>\n",
       "  <tbody>\n",
       "    <tr>\n",
       "      <th>01/12/2020</th>\n",
       "      <td>5</td>\n",
       "      <td>0.0</td>\n",
       "      <td>0.0</td>\n",
       "      <td>0.0</td>\n",
       "      <td>0.0</td>\n",
       "      <td>16.0</td>\n",
       "      <td>0</td>\n",
       "      <td>2020-12-01</td>\n",
       "    </tr>\n",
       "    <tr>\n",
       "      <th>02/12/2020</th>\n",
       "      <td>7</td>\n",
       "      <td>0.0</td>\n",
       "      <td>0.0</td>\n",
       "      <td>0.0</td>\n",
       "      <td>0.0</td>\n",
       "      <td>6.0</td>\n",
       "      <td>0</td>\n",
       "      <td>2020-12-02</td>\n",
       "    </tr>\n",
       "    <tr>\n",
       "      <th>03/12/2020</th>\n",
       "      <td>3</td>\n",
       "      <td>0.0</td>\n",
       "      <td>0.0</td>\n",
       "      <td>0.0</td>\n",
       "      <td>0.0</td>\n",
       "      <td>8.0</td>\n",
       "      <td>0</td>\n",
       "      <td>2020-12-03</td>\n",
       "    </tr>\n",
       "    <tr>\n",
       "      <th>04/12/2020</th>\n",
       "      <td>0</td>\n",
       "      <td>0.0</td>\n",
       "      <td>0.0</td>\n",
       "      <td>0.0</td>\n",
       "      <td>0.0</td>\n",
       "      <td>11.0</td>\n",
       "      <td>0</td>\n",
       "      <td>2020-12-04</td>\n",
       "    </tr>\n",
       "    <tr>\n",
       "      <th>05/12/2020</th>\n",
       "      <td>4</td>\n",
       "      <td>0.0</td>\n",
       "      <td>0.0</td>\n",
       "      <td>0.0</td>\n",
       "      <td>0.0</td>\n",
       "      <td>0.0</td>\n",
       "      <td>0</td>\n",
       "      <td>2020-12-05</td>\n",
       "    </tr>\n",
       "  </tbody>\n",
       "</table>\n",
       "</div>"
      ],
      "text/plain": [
       "            total  out_quarantine_area  in_quarantine_area  onceInjected  \\\n",
       "01/12/2020      5                  0.0                 0.0           0.0   \n",
       "02/12/2020      7                  0.0                 0.0           0.0   \n",
       "03/12/2020      3                  0.0                 0.0           0.0   \n",
       "04/12/2020      0                  0.0                 0.0           0.0   \n",
       "05/12/2020      4                  0.0                 0.0           0.0   \n",
       "\n",
       "            twiceInjected  recovered_by_day  death_by_day       Date  \n",
       "01/12/2020            0.0              16.0             0 2020-12-01  \n",
       "02/12/2020            0.0               6.0             0 2020-12-02  \n",
       "03/12/2020            0.0               8.0             0 2020-12-03  \n",
       "04/12/2020            0.0              11.0             0 2020-12-04  \n",
       "05/12/2020            0.0               0.0             0 2020-12-05  "
      ]
     },
     "execution_count": 29,
     "metadata": {},
     "output_type": "execute_result"
    }
   ],
   "source": [
    "df_full.head()"
   ]
  },
  {
   "cell_type": "code",
   "execution_count": 1,
   "id": "ddf3b703-f7cd-4b6f-aeeb-72707e590e1b",
   "metadata": {},
   "outputs": [
    {
     "ename": "NameError",
     "evalue": "name 'plt' is not defined",
     "output_type": "error",
     "traceback": [
      "\u001b[0;31m---------------------------------------------------------------------------\u001b[0m",
      "\u001b[0;31mNameError\u001b[0m                                 Traceback (most recent call last)",
      "\u001b[0;32m<ipython-input-1-3013de0209a7>\u001b[0m in \u001b[0;36m<module>\u001b[0;34m\u001b[0m\n\u001b[1;32m      1\u001b[0m \u001b[0mfig_dims\u001b[0m \u001b[0;34m=\u001b[0m \u001b[0;34m(\u001b[0m\u001b[0;36m20\u001b[0m\u001b[0;34m,\u001b[0m \u001b[0;36m6\u001b[0m\u001b[0;34m)\u001b[0m\u001b[0;34m\u001b[0m\u001b[0;34m\u001b[0m\u001b[0m\n\u001b[0;32m----> 2\u001b[0;31m \u001b[0mfig\u001b[0m\u001b[0;34m,\u001b[0m \u001b[0max\u001b[0m \u001b[0;34m=\u001b[0m \u001b[0mplt\u001b[0m\u001b[0;34m.\u001b[0m\u001b[0msubplots\u001b[0m\u001b[0;34m(\u001b[0m\u001b[0mfigsize\u001b[0m\u001b[0;34m=\u001b[0m\u001b[0mfig_dims\u001b[0m\u001b[0;34m)\u001b[0m\u001b[0;34m\u001b[0m\u001b[0;34m\u001b[0m\u001b[0m\n\u001b[0m\u001b[1;32m      3\u001b[0m \u001b[0max\u001b[0m \u001b[0;34m=\u001b[0m \u001b[0msns\u001b[0m\u001b[0;34m.\u001b[0m\u001b[0mlineplot\u001b[0m\u001b[0;34m(\u001b[0m\u001b[0mx\u001b[0m\u001b[0;34m=\u001b[0m\u001b[0;34m'Date'\u001b[0m\u001b[0;34m,\u001b[0m \u001b[0my\u001b[0m\u001b[0;34m=\u001b[0m\u001b[0;34m'total'\u001b[0m\u001b[0;34m,\u001b[0m \u001b[0mdata\u001b[0m\u001b[0;34m=\u001b[0m\u001b[0mdf_full\u001b[0m\u001b[0;34m,\u001b[0m \u001b[0max\u001b[0m \u001b[0;34m=\u001b[0m \u001b[0max\u001b[0m\u001b[0;34m,\u001b[0m \u001b[0mlabel\u001b[0m\u001b[0;34m=\u001b[0m\u001b[0;34m'total'\u001b[0m\u001b[0;34m)\u001b[0m\u001b[0;34m\u001b[0m\u001b[0;34m\u001b[0m\u001b[0m\n\u001b[1;32m      4\u001b[0m \u001b[0max\u001b[0m \u001b[0;34m=\u001b[0m \u001b[0msns\u001b[0m\u001b[0;34m.\u001b[0m\u001b[0mlineplot\u001b[0m\u001b[0;34m(\u001b[0m\u001b[0mx\u001b[0m\u001b[0;34m=\u001b[0m\u001b[0;34m'Date'\u001b[0m\u001b[0;34m,\u001b[0m \u001b[0my\u001b[0m\u001b[0;34m=\u001b[0m\u001b[0;34m'out_quarantine_area'\u001b[0m\u001b[0;34m,\u001b[0m \u001b[0mdata\u001b[0m\u001b[0;34m=\u001b[0m\u001b[0mdf_full\u001b[0m\u001b[0;34m,\u001b[0m \u001b[0max\u001b[0m \u001b[0;34m=\u001b[0m \u001b[0max\u001b[0m\u001b[0;34m,\u001b[0m \u001b[0mlabel\u001b[0m\u001b[0;34m=\u001b[0m\u001b[0;34m'out_quarantine_area'\u001b[0m\u001b[0;34m)\u001b[0m\u001b[0;34m\u001b[0m\u001b[0;34m\u001b[0m\u001b[0m\n\u001b[1;32m      5\u001b[0m \u001b[0max\u001b[0m \u001b[0;34m=\u001b[0m \u001b[0msns\u001b[0m\u001b[0;34m.\u001b[0m\u001b[0mlineplot\u001b[0m\u001b[0;34m(\u001b[0m\u001b[0mx\u001b[0m\u001b[0;34m=\u001b[0m\u001b[0;34m'Date'\u001b[0m\u001b[0;34m,\u001b[0m \u001b[0my\u001b[0m\u001b[0;34m=\u001b[0m\u001b[0;34m'in_quarantine_area'\u001b[0m\u001b[0;34m,\u001b[0m \u001b[0mdata\u001b[0m\u001b[0;34m=\u001b[0m\u001b[0mdf_full\u001b[0m\u001b[0;34m,\u001b[0m \u001b[0max\u001b[0m \u001b[0;34m=\u001b[0m \u001b[0max\u001b[0m\u001b[0;34m,\u001b[0m \u001b[0mlabel\u001b[0m\u001b[0;34m=\u001b[0m\u001b[0;34m'in_quarantine_area'\u001b[0m\u001b[0;34m)\u001b[0m\u001b[0;34m\u001b[0m\u001b[0;34m\u001b[0m\u001b[0m\n",
      "\u001b[0;31mNameError\u001b[0m: name 'plt' is not defined"
     ]
    }
   ],
   "source": [
    "fig_dims = (20, 6)\n",
    "fig, ax = plt.subplots(figsize=fig_dims)\n",
    "ax = sns.lineplot(x='Date', y='total', data=df_full, ax = ax, label='total')\n",
    "ax = sns.lineplot(x='Date', y='out_quarantine_area', data=df_full, ax = ax, label='out_quarantine_area')\n",
    "ax = sns.lineplot(x='Date', y='in_quarantine_area', data=df_full, ax = ax, label='in_quarantine_area')\n",
    "ax.set_yscale('log')\n",
    "ax2 = ax.twinx()\n",
    "ax2 = sns.lineplot(x='Date', y='onceInjected', data=df_full, ax = ax2, label='onceInjected', color='yellow')\n",
    "ax2 = sns.lineplot(x='Date', y='twiceInjected', data=df_full, ax = ax2, label='twiceInjected', color='green')\n",
    "ax2.set_yscale('log')\n",
    "ax.legend(loc=\"upper left\")\n",
    "ax2.legend(loc='center left')"
   ]
  },
  {
   "cell_type": "code",
   "execution_count": 31,
   "id": "14e62395-da3c-4197-94b1-73e501860966",
   "metadata": {},
   "outputs": [],
   "source": [
    "#Save new dataset for Viet Nam\n",
    "df_full.to_csv('./data/nation.csv')  "
   ]
  },
  {
   "cell_type": "code",
   "execution_count": 32,
   "id": "55f52543-00c8-4148-a4b3-45acf401ecea",
   "metadata": {},
   "outputs": [],
   "source": [
    "#HANOI\n",
    "df_HaNoi = pd.read_json('./data/HaNoi', convert_axes=False, orient='columns')"
   ]
  },
  {
   "cell_type": "code",
   "execution_count": 33,
   "id": "c7165b3a-a1d3-4383-9290-12a3edebbd26",
   "metadata": {},
   "outputs": [
    {
     "data": {
      "text/html": [
       "<div>\n",
       "<style scoped>\n",
       "    .dataframe tbody tr th:only-of-type {\n",
       "        vertical-align: middle;\n",
       "    }\n",
       "\n",
       "    .dataframe tbody tr th {\n",
       "        vertical-align: top;\n",
       "    }\n",
       "\n",
       "    .dataframe thead th {\n",
       "        text-align: right;\n",
       "    }\n",
       "</style>\n",
       "<table border=\"1\" class=\"dataframe\">\n",
       "  <thead>\n",
       "    <tr style=\"text-align: right;\">\n",
       "      <th></th>\n",
       "      <th>case_by_day</th>\n",
       "      <th>death_by_day</th>\n",
       "      <th>recovered_by_day</th>\n",
       "    </tr>\n",
       "  </thead>\n",
       "  <tbody>\n",
       "    <tr>\n",
       "      <th>18/3/2020</th>\n",
       "      <td>0</td>\n",
       "      <td>0</td>\n",
       "      <td>0</td>\n",
       "    </tr>\n",
       "    <tr>\n",
       "      <th>19/3/2020</th>\n",
       "      <td>0</td>\n",
       "      <td>0</td>\n",
       "      <td>0</td>\n",
       "    </tr>\n",
       "    <tr>\n",
       "      <th>20/3/2020</th>\n",
       "      <td>0</td>\n",
       "      <td>0</td>\n",
       "      <td>0</td>\n",
       "    </tr>\n",
       "    <tr>\n",
       "      <th>21/3/2020</th>\n",
       "      <td>0</td>\n",
       "      <td>0</td>\n",
       "      <td>0</td>\n",
       "    </tr>\n",
       "    <tr>\n",
       "      <th>22/3/2020</th>\n",
       "      <td>0</td>\n",
       "      <td>0</td>\n",
       "      <td>0</td>\n",
       "    </tr>\n",
       "  </tbody>\n",
       "</table>\n",
       "</div>"
      ],
      "text/plain": [
       "           case_by_day  death_by_day  recovered_by_day\n",
       "18/3/2020            0             0                 0\n",
       "19/3/2020            0             0                 0\n",
       "20/3/2020            0             0                 0\n",
       "21/3/2020            0             0                 0\n",
       "22/3/2020            0             0                 0"
      ]
     },
     "execution_count": 33,
     "metadata": {},
     "output_type": "execute_result"
    }
   ],
   "source": [
    "df_HaNoi.head()"
   ]
  },
  {
   "cell_type": "code",
   "execution_count": 34,
   "id": "d0fdf8fd-7df1-41a1-ad00-c3044a34054c",
   "metadata": {},
   "outputs": [
    {
     "name": "stdout",
     "output_type": "stream",
     "text": [
      "<class 'pandas.core.frame.DataFrame'>\n",
      "Index: 751 entries, 18/3/2020 to 7/5/2022\n",
      "Data columns (total 3 columns):\n",
      " #   Column            Non-Null Count  Dtype\n",
      "---  ------            --------------  -----\n",
      " 0   case_by_day       751 non-null    int64\n",
      " 1   death_by_day      751 non-null    int64\n",
      " 2   recovered_by_day  751 non-null    int64\n",
      "dtypes: int64(3)\n",
      "memory usage: 23.5+ KB\n"
     ]
    }
   ],
   "source": [
    "df_HaNoi.info()"
   ]
  },
  {
   "cell_type": "code",
   "execution_count": 35,
   "id": "32819c07-06e0-44c0-9fa6-9d3d9819e664",
   "metadata": {},
   "outputs": [
    {
     "data": {
      "text/html": [
       "<div>\n",
       "<style scoped>\n",
       "    .dataframe tbody tr th:only-of-type {\n",
       "        vertical-align: middle;\n",
       "    }\n",
       "\n",
       "    .dataframe tbody tr th {\n",
       "        vertical-align: top;\n",
       "    }\n",
       "\n",
       "    .dataframe thead th {\n",
       "        text-align: right;\n",
       "    }\n",
       "</style>\n",
       "<table border=\"1\" class=\"dataframe\">\n",
       "  <thead>\n",
       "    <tr style=\"text-align: right;\">\n",
       "      <th></th>\n",
       "      <th>case_by_day</th>\n",
       "      <th>death_by_day</th>\n",
       "      <th>recovered_by_day</th>\n",
       "    </tr>\n",
       "  </thead>\n",
       "  <tbody>\n",
       "    <tr>\n",
       "      <th>count</th>\n",
       "      <td>751.000000</td>\n",
       "      <td>751.000000</td>\n",
       "      <td>751.000000</td>\n",
       "    </tr>\n",
       "    <tr>\n",
       "      <th>mean</th>\n",
       "      <td>1312.902796</td>\n",
       "      <td>1.647137</td>\n",
       "      <td>0.696405</td>\n",
       "    </tr>\n",
       "    <tr>\n",
       "      <th>std</th>\n",
       "      <td>4559.941274</td>\n",
       "      <td>5.254775</td>\n",
       "      <td>2.817275</td>\n",
       "    </tr>\n",
       "    <tr>\n",
       "      <th>min</th>\n",
       "      <td>0.000000</td>\n",
       "      <td>0.000000</td>\n",
       "      <td>0.000000</td>\n",
       "    </tr>\n",
       "    <tr>\n",
       "      <th>25%</th>\n",
       "      <td>0.000000</td>\n",
       "      <td>0.000000</td>\n",
       "      <td>0.000000</td>\n",
       "    </tr>\n",
       "    <tr>\n",
       "      <th>50%</th>\n",
       "      <td>1.000000</td>\n",
       "      <td>0.000000</td>\n",
       "      <td>0.000000</td>\n",
       "    </tr>\n",
       "    <tr>\n",
       "      <th>75%</th>\n",
       "      <td>99.000000</td>\n",
       "      <td>0.000000</td>\n",
       "      <td>0.000000</td>\n",
       "    </tr>\n",
       "    <tr>\n",
       "      <th>max</th>\n",
       "      <td>32650.000000</td>\n",
       "      <td>55.000000</td>\n",
       "      <td>38.000000</td>\n",
       "    </tr>\n",
       "  </tbody>\n",
       "</table>\n",
       "</div>"
      ],
      "text/plain": [
       "        case_by_day  death_by_day  recovered_by_day\n",
       "count    751.000000    751.000000        751.000000\n",
       "mean    1312.902796      1.647137          0.696405\n",
       "std     4559.941274      5.254775          2.817275\n",
       "min        0.000000      0.000000          0.000000\n",
       "25%        0.000000      0.000000          0.000000\n",
       "50%        1.000000      0.000000          0.000000\n",
       "75%       99.000000      0.000000          0.000000\n",
       "max    32650.000000     55.000000         38.000000"
      ]
     },
     "execution_count": 35,
     "metadata": {},
     "output_type": "execute_result"
    }
   ],
   "source": [
    "df_HaNoi.describe()"
   ]
  },
  {
   "cell_type": "code",
   "execution_count": 36,
   "id": "8a8029f7-032d-4d4c-84a1-68e72a0f0774",
   "metadata": {},
   "outputs": [
    {
     "data": {
      "text/plain": [
       "0"
      ]
     },
     "execution_count": 36,
     "metadata": {},
     "output_type": "execute_result"
    }
   ],
   "source": [
    "df_HaNoi.isna().sum().sum()"
   ]
  },
  {
   "cell_type": "code",
   "execution_count": 37,
   "id": "444cda53-6c35-44c6-a5a9-27d3815b8d08",
   "metadata": {},
   "outputs": [],
   "source": [
    "#HANOI\n",
    "df_BacGiang = pd.read_json('./data/BacGiang', convert_axes=False, orient='columns')"
   ]
  },
  {
   "cell_type": "code",
   "execution_count": 38,
   "id": "f9f621a0-c79e-4643-97f8-db3b6b837055",
   "metadata": {},
   "outputs": [
    {
     "data": {
      "text/html": [
       "<div>\n",
       "<style scoped>\n",
       "    .dataframe tbody tr th:only-of-type {\n",
       "        vertical-align: middle;\n",
       "    }\n",
       "\n",
       "    .dataframe tbody tr th {\n",
       "        vertical-align: top;\n",
       "    }\n",
       "\n",
       "    .dataframe thead th {\n",
       "        text-align: right;\n",
       "    }\n",
       "</style>\n",
       "<table border=\"1\" class=\"dataframe\">\n",
       "  <thead>\n",
       "    <tr style=\"text-align: right;\">\n",
       "      <th></th>\n",
       "      <th>case_by_day</th>\n",
       "      <th>death_by_day</th>\n",
       "      <th>recovered_by_day</th>\n",
       "    </tr>\n",
       "  </thead>\n",
       "  <tbody>\n",
       "    <tr>\n",
       "      <th>18/3/2020</th>\n",
       "      <td>0</td>\n",
       "      <td>0</td>\n",
       "      <td>0</td>\n",
       "    </tr>\n",
       "    <tr>\n",
       "      <th>19/3/2020</th>\n",
       "      <td>0</td>\n",
       "      <td>0</td>\n",
       "      <td>0</td>\n",
       "    </tr>\n",
       "    <tr>\n",
       "      <th>20/3/2020</th>\n",
       "      <td>0</td>\n",
       "      <td>0</td>\n",
       "      <td>0</td>\n",
       "    </tr>\n",
       "    <tr>\n",
       "      <th>21/3/2020</th>\n",
       "      <td>0</td>\n",
       "      <td>0</td>\n",
       "      <td>0</td>\n",
       "    </tr>\n",
       "    <tr>\n",
       "      <th>22/3/2020</th>\n",
       "      <td>0</td>\n",
       "      <td>0</td>\n",
       "      <td>0</td>\n",
       "    </tr>\n",
       "  </tbody>\n",
       "</table>\n",
       "</div>"
      ],
      "text/plain": [
       "           case_by_day  death_by_day  recovered_by_day\n",
       "18/3/2020            0             0                 0\n",
       "19/3/2020            0             0                 0\n",
       "20/3/2020            0             0                 0\n",
       "21/3/2020            0             0                 0\n",
       "22/3/2020            0             0                 0"
      ]
     },
     "execution_count": 38,
     "metadata": {},
     "output_type": "execute_result"
    }
   ],
   "source": [
    "df_BacGiang.head()"
   ]
  },
  {
   "cell_type": "code",
   "execution_count": 39,
   "id": "2895d6ee-8be2-44e5-87c7-02c98322540d",
   "metadata": {},
   "outputs": [
    {
     "name": "stdout",
     "output_type": "stream",
     "text": [
      "<class 'pandas.core.frame.DataFrame'>\n",
      "Index: 751 entries, 18/3/2020 to 7/5/2022\n",
      "Data columns (total 3 columns):\n",
      " #   Column            Non-Null Count  Dtype\n",
      "---  ------            --------------  -----\n",
      " 0   case_by_day       751 non-null    int64\n",
      " 1   death_by_day      751 non-null    int64\n",
      " 2   recovered_by_day  751 non-null    int64\n",
      "dtypes: int64(3)\n",
      "memory usage: 23.5+ KB\n"
     ]
    }
   ],
   "source": [
    "df_BacGiang.info()"
   ]
  },
  {
   "cell_type": "code",
   "execution_count": 40,
   "id": "f3dea9d7-1a97-4f2a-9516-94459923b0dc",
   "metadata": {},
   "outputs": [
    {
     "data": {
      "text/plain": [
       "0"
      ]
     },
     "execution_count": 40,
     "metadata": {},
     "output_type": "execute_result"
    }
   ],
   "source": [
    "df_BacGiang.isna().sum().sum()"
   ]
  },
  {
   "cell_type": "code",
   "execution_count": 41,
   "id": "1e9b256d-57e1-444f-9a65-73832af20d44",
   "metadata": {},
   "outputs": [],
   "source": [
    "#The same operations on CanTho, DaNang, HaiPhong, NgheAn, TPHCM, VinhPhuc"
   ]
  }
 ],
 "metadata": {
  "kernelspec": {
   "display_name": "Python 3",
   "language": "python",
   "name": "python3"
  },
  "language_info": {
   "codemirror_mode": {
    "name": "ipython",
    "version": 3
   },
   "file_extension": ".py",
   "mimetype": "text/x-python",
   "name": "python",
   "nbconvert_exporter": "python",
   "pygments_lexer": "ipython3",
   "version": "3.6.9"
  }
 },
 "nbformat": 4,
 "nbformat_minor": 5
}
